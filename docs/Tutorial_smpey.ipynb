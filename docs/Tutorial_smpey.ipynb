{
 "cells": [
  {
   "cell_type": "markdown",
   "metadata": {},
   "source": [
    "# Paquete SMEPY\n",
    "## Autor: Erik Angulo"
   ]
  },
  {
   "cell_type": "markdown",
   "metadata": {},
   "source": [
    "# Instalación\n",
    "\n",
    "Esta es la guía de uso del paquete 'smer'. Está alojado en \"github.com/erikangulo/smepy\"\n",
    "\n",
    "Este paquete se puede instalar fácilmente a través de la librería devtools, desde Github:\n",
    "\n",
    "También se puede instalar a través del código fuente usando la consola de R.\n",
    "\n",
    "Este paquete tiene dependencias únicamente para ciertas funciones concretas listadas a continuación. El paquete puede operar correctamente sin ellas excepto para las funciones mencionadas e indicará al usuario al ejecutar cada programa si necesita alguna dependencia.\n",
    "\n",
    "* jupyter notebook\n",
    "* pandas\n",
    "* numpy\n",
    "* seaborn\n",
    "* matplotlib\n",
    "\n",
    "Cargamos el paquete:"
   ]
  },
  {
   "cell_type": "code",
   "execution_count": 1,
   "metadata": {},
   "outputs": [],
   "source": [
    "import smepy.dataset as ds \n",
    "import smepy.modifications as md\n",
    "import smepy.statistics as st"
   ]
  },
  {
   "cell_type": "markdown",
   "metadata": {},
   "source": [
    "# Uso\n",
    "\n",
    "El objetivo de este paquete es facilitar la aplicación de cálculos y estadísticos en datos a usuarios que dispongan de poca experiencia en el ámbito de la programación. También es adecuado para conseguir los resultados deseados automáticamente en pocas líneas de código sin necesidad de programar nada. Entre las funciones disponibles, se encuentran la lectura y escritura de datasets, cálculo de la varianza, curva ROC, discretización, normalización y estandarización de variables, cálculo de la correlación, cálculo de la entropía y distintos gráficos que representen los resultados.\n",
    "\n",
    "En este jupyter notebook presentaremos un tutorial de cómo usar el paquete\n"
   ]
  },
  {
   "cell_type": "markdown",
   "metadata": {},
   "source": [
    "# Gestión de Dataset\n",
    "\n",
    "En esta sección observaremos que son los Dataset y como podemos crearlos, cargarlos, guardarlos y visualizarlos.\n",
    "\n",
    "## Creación de Dataset\n",
    "\n",
    "Los Dataset son unas clases que funcionan como tablas, donde cada fila corresponde a instancias y las columnas a las variables. Cada variable será de un tipo, ya sea numérica, lógica o de caracteres. Los dataset, además de la tabla, tendrán un nombre.\n",
    "\n",
    "Empecemos observando como se crea un Dataset.\n",
    "\n",
    "Los Dataset se deben crear con estructura de diccionario, donde las llaves son el nombre de las columnas y los valores son el contenido de las columnas. El único requisito que tiene es que ha de tener como mínimo dos filas y una columna (pues para elementos con una fila independientemente de las columnas ya podemos trabajar con un vector normal y corriente).\n",
    "\n",
    "A cada Dataset le podemos asignar un id o nombre, el cual se generará automáticamente con un número en caso de no especificarlo. Además, podemos decidir si factorizar alguna de sus columnas. De esta forma, aquellas que contengan menos valores distintos que el número indicado serán factorizadas."
   ]
  },
  {
   "cell_type": "code",
   "execution_count": 2,
   "metadata": {},
   "outputs": [
    {
     "name": "stdout",
     "output_type": "stream",
     "text": [
      "Nombre del Dataset: 1\n",
      "Columnas del Dataset: 2\n",
      "Filas del Dataset: 6\n",
      "Contenido del Dataset:\n",
      "   N  L\n",
      "0  3  A\n",
      "1  3  B\n",
      "2  5  D\n",
      "3  8  R\n",
      "4  9  S\n",
      "5  5  P\n"
     ]
    }
   ],
   "source": [
    "prueba1 = [3,3,5,8,9,5]\n",
    "prueba2 = [\"A\", \"B\", \"D\", \"R\", \"S\", \"P\"]\n",
    "dictPrueba = {\"N\" : prueba1, \"L\": prueba2}\n",
    "\n",
    "dsPrueba = ds.Dataset(dictPrueba)\n",
    "print(dsPrueba)"
   ]
  },
  {
   "cell_type": "markdown",
   "metadata": {},
   "source": [
    "También podemos cambiarles el nombre a las columnas deseadas o directamente a todas ellas. Para cada columna deseada se indicará mediante un diccionario como llave los nombres antiguos y como valores los nombres nuevos. Para cambiar todas las columnas a la vez basta con crear un array con los nuevos nombres para las columnas"
   ]
  },
  {
   "cell_type": "code",
   "execution_count": 3,
   "metadata": {},
   "outputs": [
    {
     "name": "stdout",
     "output_type": "stream",
     "text": [
      "Nombre del Dataset: 1\n",
      "Columnas del Dataset: 2\n",
      "Filas del Dataset: 6\n",
      "Contenido del Dataset:\n",
      "   Num  L\n",
      "0    3  A\n",
      "1    3  B\n",
      "2    5  D\n",
      "3    8  R\n",
      "4    9  S\n",
      "5    5  P\n",
      "Nombre del Dataset: 1\n",
      "Columnas del Dataset: 2\n",
      "Filas del Dataset: 6\n",
      "Contenido del Dataset:\n",
      "   Num Let\n",
      "0    3   A\n",
      "1    3   B\n",
      "2    5   D\n",
      "3    8   R\n",
      "4    9   S\n",
      "5    5   P\n"
     ]
    }
   ],
   "source": [
    "dsPrueba.nombres_columna({\"N\":\"Num\"}) #cambiar la columna deseada\n",
    "print(dsPrueba)\n",
    "dsPrueba.nombres_columna([\"Num\", \"Let\"]) #todas las columnas\n",
    "print(dsPrueba)"
   ]
  },
  {
   "cell_type": "markdown",
   "metadata": {},
   "source": [
    "## Lectura y guardado de Dataset\n",
    "\n",
    "Además de poder crear Dataset usando los comandos anteriores, también podemos crearlos desde un fichero. De la misma manera, podemos guardar un Dataset como fichero.\n",
    "\n",
    "El guardado de ficheros está limitado a formato csv, pero la lectura puede ser de formato csv o derivados como tsv. Para ello es necesario indicar que separador usa (por defecto \",\") y el caracter usado para los números decimales (por defecto \".\"). De igual manera podemos asignar un nombre al dataset creado. Si el fichero dispone de encabezado, es decir, nombres asignados a cada columna como la primera instancia del fichero, se usarán como nombres del Dataset, en caso contrario, deberá indicarse con el parámetro 'encabezado' como False.\n"
   ]
  },
  {
   "cell_type": "code",
   "execution_count": 4,
   "metadata": {},
   "outputs": [
    {
     "name": "stdout",
     "output_type": "stream",
     "text": [
      "Nombre del Dataset: Puntos\n",
      "Columnas del Dataset: 4\n",
      "Filas del Dataset: 8\n",
      "Contenido del Dataset:\n",
      "   Intento  Puntuacion Participante  Conseguido\n",
      "0        1         2.1         Juan        True\n",
      "1        5         3.4         Pepe       False\n",
      "2        8         5.6        Paula       False\n",
      "3        5         2.3       Marisa        True\n",
      "4        6         8.8        Nerea       False\n",
      "5        4         5.5        Jorge       False\n",
      "6        0         9.6         Juan       False\n",
      "7        0         1.3        Paula        True\n"
     ]
    }
   ],
   "source": [
    "dsPuntos = ds.leer_datos(\"LecturaCSV_R.csv\", nombre=\"Puntos\", encabezado=True, sep=\",\", decimal='.')\n",
    "print(dsPuntos)"
   ]
  },
  {
   "cell_type": "code",
   "execution_count": 5,
   "metadata": {},
   "outputs": [],
   "source": [
    "#ds.guardar_datos(dsPuntos, \"Guardar.txt\")"
   ]
  },
  {
   "cell_type": "markdown",
   "metadata": {},
   "source": [
    "# Modificaciones del Dataset\n",
    "\n",
    "En esta sección veremos diferentes modificaciones que podemos realizar a nuestro Dataset. En estos casos no se modificarán el Dataset original y obtendremos una copia con dichas modificaciones aplicadas. La modificación que se realice aparecerá reflejada en el nombre del Dataset con las modificaciones."
   ]
  },
  {
   "cell_type": "markdown",
   "metadata": {},
   "source": [
    "## Estandarizar y normalizar\n",
    "\n",
    "La estandarización hace que los valores sigan una distribución normal con media 0 y desviación estandar 1, mientras que la normalización hace que los valores estén comprendidos en el rango entre 0 y 1, ambos incluídos.\n",
    "\n",
    "Se normalizarán y estandarizarán automáticamente las columnas numéricas"
   ]
  },
  {
   "cell_type": "code",
   "execution_count": 6,
   "metadata": {},
   "outputs": [
    {
     "name": "stdout",
     "output_type": "stream",
     "text": [
      "Nombre del Dataset: Puntos_norm\n",
      "Columnas del Dataset: 4\n",
      "Filas del Dataset: 8\n",
      "Contenido del Dataset:\n",
      "   Intento  Puntuacion Participante  Conseguido\n",
      "0    0.125    0.096386         Juan        True\n",
      "1    0.625    0.253012         Pepe       False\n",
      "2    1.000    0.518072        Paula       False\n",
      "3    0.625    0.120482       Marisa        True\n",
      "4    0.750    0.903614        Nerea       False\n",
      "5    0.500    0.506024        Jorge       False\n",
      "6    0.000    1.000000         Juan       False\n",
      "7    0.000    0.000000        Paula        True\n"
     ]
    }
   ],
   "source": [
    "print(md.normalizar(dsPuntos))"
   ]
  },
  {
   "cell_type": "code",
   "execution_count": 7,
   "metadata": {
    "scrolled": true
   },
   "outputs": [
    {
     "name": "stdout",
     "output_type": "stream",
     "text": [
      "Nombre del Dataset: Puntos_estand\n",
      "Columnas del Dataset: 4\n",
      "Filas del Dataset: 8\n",
      "Contenido del Dataset:\n",
      "    Intento  Puntuacion Participante  Conseguido\n",
      "0 -0.882919   -0.874848         Juan        True\n",
      "1  0.462481   -0.457489         Pepe       False\n",
      "2  1.471531    0.248810        Paula       False\n",
      "3  0.462481   -0.810639       Marisa        True\n",
      "4  0.798831    1.276155        Nerea       False\n",
      "5  0.126131    0.216706        Jorge       False\n",
      "6 -1.219269    1.532991         Juan       False\n",
      "7 -1.219269   -1.131684        Paula        True\n"
     ]
    }
   ],
   "source": [
    "print(md.estandarizar(dsPuntos))"
   ]
  },
  {
   "cell_type": "markdown",
   "metadata": {},
   "source": [
    "## Filtrado\n",
    "\n",
    "Podemos obtener un subconjunto del Dataset con los filtros que se consideren oportunos. Para ello, deberemos indicar en base a los valores de qué columna queremos filtrar y la función de filtrado. El filtro deberá ir entre comillas simples, y si se compara con valores estos tendrán comillas dobles. Si el nombre de la columna tiene espacios deberá estar entre el caracter `"
   ]
  },
  {
   "cell_type": "code",
   "execution_count": 8,
   "metadata": {},
   "outputs": [
    {
     "name": "stdout",
     "output_type": "stream",
     "text": [
      "Nombre del Dataset: Puntos_filt\n",
      "Columnas del Dataset: 4\n",
      "Filas del Dataset: 5\n",
      "Contenido del Dataset:\n",
      "   Intento  Puntuacion Participante  Conseguido\n",
      "0        1         2.1         Juan        True\n",
      "4        6         8.8        Nerea       False\n",
      "5        4         5.5        Jorge       False\n",
      "6        0         9.6         Juan       False\n",
      "7        0         1.3        Paula        True\n"
     ]
    }
   ],
   "source": [
    "#comparamos dos columnas entre sí y obtenemos las filas que cumplan dicha condición\n",
    "print(md.filtrar(dsPuntos, 'Intento < Puntuacion'))"
   ]
  },
  {
   "cell_type": "code",
   "execution_count": 9,
   "metadata": {
    "scrolled": true
   },
   "outputs": [
    {
     "name": "stdout",
     "output_type": "stream",
     "text": [
      "Nombre del Dataset: Puntos_filt\n",
      "Columnas del Dataset: 4\n",
      "Filas del Dataset: 2\n",
      "Contenido del Dataset:\n",
      "   Intento  Puntuacion Participante  Conseguido\n",
      "0        1         2.1         Juan        True\n",
      "6        0         9.6         Juan       False\n"
     ]
    }
   ],
   "source": [
    "#comparamos una columna con valor y obtenemos las filas que cumplan dicha condición\n",
    "print(md.filtrar(dsPuntos, 'Participante == \"Juan\"'))"
   ]
  },
  {
   "cell_type": "markdown",
   "metadata": {},
   "source": [
    "## Discretizar\n",
    "\n",
    "Mediante este proceso podemos factorizar las columnas numéricas en X tramos y sustituyendo cada elemento por el tramo al que pertenece. Esta factorización se denomina discretización.\n",
    "\n",
    "Para discretizar el Dataset, deberemos indicar una o varias columnas numéricas, cuantos puntos de corte se desean (los puntos de corte delimitan los tramos), y que algoritmo se usará para inferir los puntos de corte que nos delimiten los tramos para posteriormente discretizar. En caso de no indicar columnas, la discretización se aplicará automáticamente a todas las columnas numéricas del Dataset\n",
    "\n",
    "Uno de los algoritmos clásicos es equal width (igual anchura). Dado un vector de números reales y un número de intervalos, determina cuales son los puntos de corte para generar un vector categórico de tal manera que esos puntos están uniformemente distribuidos en el rango de los valores. Por ejemplo, si tenemos los valores (11.5, 10.2, 1.2, 0.5, 5.3, 20.5, 8.4) y queremos generar una variable categórica (su implementación en Python puede ser como un string) con cuatro posibles valores, tenemos que determinar tres puntos de corte, que serán valores que separen el intervalo (entre 0.5 y 20.5 en este caso) en 4 tramos de igual tamaño. Es decir, el primer tramo irá de 0.5 a 5.5, el segundo de 5.5 a 10.5, el tercero de 10.5 a 15.5 y el último de 15.5 a 20.5. Es decir, tendríamos 3 puntos de corte, 5.5, 10.5 y 15.5. Normalmente cuando se lleva a cabo esta tarea, ante un nuevo valor es necesario determinar a que intervalo pertence. Dado que cuando eso ocurre el valor puede estar fuera de los límites del vector original, el comienzo del primer tramos se suele considerar -infinito y el final del último como infinito. Es decir, una vez aplicado el algoritmo, el resultado sería un vector categórico de este estilo: '[\"I3\", \"I2\", \"I1\", \"I1\", \"I4\", \"I2\"]', donde I1=(-infinito, 5.5], I2=(5.5, 10.5], I3=(10.5, 15.5], I4=(15.5, infinito). Otro de los algoritmos clásicos es equal frequency (igual frecuencia), donde el objetivo es buscar los puntos de corte que hagan que el número de valores del vector a discretizar que caen en cada uno de los intervalos sea el mismo (+- 1, según el número de intervalos y de puntos).\n",
    "\n",
    "Además, en caso de usar otro algoritmo de otro paquete de inferencia de puntos de corte, podemos discretizar también nuestro dataset usando los puntos de corte obtenidos.\n",
    "\n",
    "Veámos unos ejemplos."
   ]
  },
  {
   "cell_type": "markdown",
   "metadata": {},
   "source": [
    "Discretizar en 3 tramos las columnas numéricas del Dataset a través del método 'Igual Frecuencia'"
   ]
  },
  {
   "cell_type": "code",
   "execution_count": 10,
   "metadata": {
    "scrolled": true
   },
   "outputs": [
    {
     "name": "stdout",
     "output_type": "stream",
     "text": [
      "Nombre del Dataset: Puntos_frecuencia\n",
      "Columnas del Dataset: 4\n",
      "Filas del Dataset: 8\n",
      "Contenido del Dataset:\n",
      "    Intento  Puntuacion Participante  Conseguido\n",
      "0  (-Inf,1]  (-Inf,2.3]         Juan        True\n",
      "1     (1,5]   (2.3,5.5]         Pepe       False\n",
      "2  (5,+Inf)  (5.5,+Inf)        Paula       False\n",
      "3     (1,5]  (-Inf,2.3]       Marisa        True\n",
      "4  (5,+Inf)  (5.5,+Inf)        Nerea       False\n",
      "5     (1,5]   (2.3,5.5]        Jorge       False\n",
      "6  (-Inf,1]  (5.5,+Inf)         Juan       False\n",
      "7  (-Inf,1]  (-Inf,2.3]        Paula        True\n"
     ]
    }
   ],
   "source": [
    "print(md.discretizar(dsPuntos))"
   ]
  },
  {
   "cell_type": "markdown",
   "metadata": {},
   "source": [
    "Discretizar en 4 tramos la segunda columna numéricas del Dataset a través del método 'Igual Anchura'"
   ]
  },
  {
   "cell_type": "code",
   "execution_count": 11,
   "metadata": {
    "scrolled": true
   },
   "outputs": [
    {
     "name": "stdout",
     "output_type": "stream",
     "text": [
      "Nombre del Dataset: Puntos_anchura\n",
      "Columnas del Dataset: 4\n",
      "Filas del Dataset: 8\n",
      "Contenido del Dataset:\n",
      "   Intento    Puntuacion Participante  Conseguido\n",
      "0        1  (-Inf,3.375]         Juan        True\n",
      "1        5  (3.375,5.45]         Pepe       False\n",
      "2        8  (5.45,7.525]        Paula       False\n",
      "3        5  (-Inf,3.375]       Marisa        True\n",
      "4        6  (7.525,+Inf)        Nerea       False\n",
      "5        4  (5.45,7.525]        Jorge       False\n",
      "6        0  (7.525,+Inf)         Juan       False\n",
      "7        0  (-Inf,3.375]        Paula        True\n"
     ]
    }
   ],
   "source": [
    "print(md.discretizar(dsPuntos, columnas=[\"Puntuacion\"], metodo=\"anchura\", puntos_corte=4))"
   ]
  },
  {
   "cell_type": "markdown",
   "metadata": {},
   "source": [
    "Discretizar la columna Puntuacion con los puntos de corte proporcionados"
   ]
  },
  {
   "cell_type": "code",
   "execution_count": 12,
   "metadata": {
    "scrolled": true
   },
   "outputs": [
    {
     "name": "stdout",
     "output_type": "stream",
     "text": [
      "Nombre del Dataset: Puntos_manual\n",
      "Columnas del Dataset: 4\n",
      "Filas del Dataset: 8\n",
      "Contenido del Dataset:\n",
      "   Intento Puntuacion Participante  Conseguido\n",
      "0        1      (2,4]         Juan        True\n",
      "1        5      (2,4]         Pepe       False\n",
      "2        8      (4,6]        Paula       False\n",
      "3        5      (2,4]       Marisa        True\n",
      "4        6   (6,+Inf)        Nerea       False\n",
      "5        4      (4,6]        Jorge       False\n",
      "6        0   (6,+Inf)         Juan       False\n",
      "7        0   (-Inf,2]        Paula        True\n"
     ]
    }
   ],
   "source": [
    "print(md.discretizar(dsPuntos, columnas=[\"Puntuacion\"], metodo=\"manual\", puntos_corte=[2,4,6]))"
   ]
  },
  {
   "cell_type": "markdown",
   "metadata": {},
   "source": [
    "# Cálculo de estadísticos en el Dataset\n",
    "\n",
    "En esta sección mostraremos diferentes estadísticos que podemos aplicar al Dataset y visualizaremos los resultados."
   ]
  },
  {
   "cell_type": "markdown",
   "metadata": {},
   "source": [
    "## Varianza y entropía\n",
    "\n",
    "Podemos usar el comando 'varianzas' para obtener la varianza correspondiente a cada columna que sea numérica.\n"
   ]
  },
  {
   "cell_type": "code",
   "execution_count": 13,
   "metadata": {},
   "outputs": [
    {
     "data": {
      "text/plain": [
       "Intento       8.839286\n",
       "Puntuacion    9.702143\n",
       "dtype: float64"
      ]
     },
     "execution_count": 13,
     "metadata": {},
     "output_type": "execute_result"
    }
   ],
   "source": [
    "st.varianzas(dsPuntos)"
   ]
  },
  {
   "cell_type": "markdown",
   "metadata": {},
   "source": [
    "Por defecto obtendremos la entropía normalizada, entre 0 y 1, el sistema se encarga en estos casos de detectar cuántos valores distintos hay. De todas formas, podemos obtenerla también sin normalizar si así quisiesemos. Por último, podemos representar las entropías a través de un gráfico también."
   ]
  },
  {
   "cell_type": "code",
   "execution_count": 14,
   "metadata": {},
   "outputs": [],
   "source": [
    "dfEst= {\n",
    "    'A':[1,2,3,4,5,6,7,8,9,10],\n",
    "    'B':[10, 20, 10, 10, 10, 30, 70, 80, 10, 90],\n",
    "    'C':['Verde', 'Amarillo', 'Azul', 'Amarillo', 'Verde', 'Rojo', 'Rojo', 'Rojo', 'Verde', 'Azul'],\n",
    "    'D':[0]*10\n",
    "}\n",
    "dsEst = ds.Dataset(dfEst)"
   ]
  },
  {
   "cell_type": "code",
   "execution_count": 15,
   "metadata": {
    "scrolled": true
   },
   "outputs": [
    {
     "data": {
      "text/plain": [
       "A    1.000000\n",
       "B    0.835975\n",
       "C    0.985475\n",
       "D         NaN\n",
       "dtype: float64"
      ]
     },
     "execution_count": 15,
     "metadata": {},
     "output_type": "execute_result"
    },
    {
     "data": {
      "image/png": "[encoded data removed]",
      "text/plain": [
       "<Figure size 432x288 with 1 Axes>"
      ]
     },
     "metadata": {
      "needs_background": "light"
     },
     "output_type": "display_data"
    }
   ],
   "source": [
    "st.entropias(dsEst, normalizar=True, plot=True)"
   ]
  },
  {
   "cell_type": "markdown",
   "metadata": {},
   "source": [
    "## Boxplot\n",
    "\n",
    "Tener una idea de cómo son nuestros datos es interesante. Por ello, también se ofrece visualizar mediante un Boxplot cada columna del Dataset, simplemente usando la función 'graficoBoxplot'"
   ]
  },
  {
   "cell_type": "code",
   "execution_count": 16,
   "metadata": {},
   "outputs": [
    {
     "data": {
      "image/png": "[encoded data removed]",
      "text/plain": [
       "<Figure size 432x288 with 1 Axes>"
      ]
     },
     "metadata": {
      "needs_background": "light"
     },
     "output_type": "display_data"
    }
   ],
   "source": [
    "st.graficoBoxplot(dsEst)"
   ]
  },
  {
   "cell_type": "markdown",
   "metadata": {},
   "source": [
    "## Correlaciones e información mútua\n",
    "\n",
    "Es posible también observar cómo de relacionadas están las columnas del Dataset. Para las columnas numéricas usaremos 'correlaciones', mientras que para columnas discretas (factores y character) usaremos 'infmutuas'. Ambas funciones detectan automáticamente las columnas que son apropiadas. Podemos obtener también gráficos para analizar las relaciones."
   ]
  },
  {
   "cell_type": "code",
   "execution_count": 17,
   "metadata": {},
   "outputs": [],
   "source": [
    "dfEst2 = {'A': [33.33, 45.12, 84.32, 65.28, 14.67],\n",
    "        'B': [20.46, 78.36, 76.41, 16.81, 13.19],\n",
    "        'C': [8.91, 6.52, 13.35, 41.25, 30.40]\n",
    "        }\n",
    "dsEst2 = ds.Dataset(dfEst2)"
   ]
  },
  {
   "cell_type": "code",
   "execution_count": 18,
   "metadata": {
    "scrolled": true
   },
   "outputs": [
    {
     "data": {
      "image/png": "[encoded data removed]",
      "text/plain": [
       "<Figure size 432x288 with 2 Axes>"
      ]
     },
     "metadata": {
      "needs_background": "light"
     },
     "output_type": "display_data"
    },
    {
     "data": {
      "text/html": [
       "<div>\n",
       "<style scoped>\n",
       "    .dataframe tbody tr th:only-of-type {\n",
       "        vertical-align: middle;\n",
       "    }\n",
       "\n",
       "    .dataframe tbody tr th {\n",
       "        vertical-align: top;\n",
       "    }\n",
       "\n",
       "    .dataframe thead th {\n",
       "        text-align: right;\n",
       "    }\n",
       "</style>\n",
       "<table border=\"1\" class=\"dataframe\">\n",
       "  <thead>\n",
       "    <tr style=\"text-align: right;\">\n",
       "      <th></th>\n",
       "      <th>A</th>\n",
       "      <th>B</th>\n",
       "      <th>C</th>\n",
       "    </tr>\n",
       "  </thead>\n",
       "  <tbody>\n",
       "    <tr>\n",
       "      <th>A</th>\n",
       "      <td>1.000000</td>\n",
       "      <td>0.550024</td>\n",
       "      <td>-0.012020</td>\n",
       "    </tr>\n",
       "    <tr>\n",
       "      <th>B</th>\n",
       "      <td>0.550024</td>\n",
       "      <td>1.000000</td>\n",
       "      <td>-0.655231</td>\n",
       "    </tr>\n",
       "    <tr>\n",
       "      <th>C</th>\n",
       "      <td>-0.012020</td>\n",
       "      <td>-0.655231</td>\n",
       "      <td>1.000000</td>\n",
       "    </tr>\n",
       "  </tbody>\n",
       "</table>\n",
       "</div>"
      ],
      "text/plain": [
       "          A         B         C\n",
       "A  1.000000  0.550024 -0.012020\n",
       "B  0.550024  1.000000 -0.655231\n",
       "C -0.012020 -0.655231  1.000000"
      ]
     },
     "execution_count": 18,
     "metadata": {},
     "output_type": "execute_result"
    }
   ],
   "source": [
    "st.correlaciones(dsEst2, plot=True)"
   ]
  },
  {
   "cell_type": "code",
   "execution_count": 19,
   "metadata": {},
   "outputs": [],
   "source": [
    "dfEst3= {\n",
    "    'A':[\"1\",\"2\",\"3\",\"4\",\"5\",\"6\",\"7\",\"8\",\"9\",\"10\"],\n",
    "    'B':[\"10\", \"20\", \"10\", \"10\", \"10\", \"30\", \"70\", \"80\", \"10\", \"90\"],\n",
    "    'C':['Verde', 'Amarillo', 'Azul', 'Amarillo', 'Verde', 'Rojo', 'Rojo', 'Rojo', 'Verde', 'Azul']\n",
    "}\n",
    "dsEst3 = ds.Dataset(dfEst3)"
   ]
  },
  {
   "cell_type": "code",
   "execution_count": 20,
   "metadata": {},
   "outputs": [
    {
     "data": {
      "image/png": "[encoded data removed]",
      "text/plain": [
       "<Figure size 432x288 with 2 Axes>"
      ]
     },
     "metadata": {
      "needs_background": "light"
     },
     "output_type": "display_data"
    },
    {
     "data": {
      "text/plain": [
       "array([[2.30258509, 1.49786614, 1.36615885],\n",
       "       [1.49786614, 1.49786614, 0.89102358],\n",
       "       [1.36615885, 0.89102358, 1.36615885]])"
      ]
     },
     "execution_count": 20,
     "metadata": {},
     "output_type": "execute_result"
    }
   ],
   "source": [
    "st.infmutuas(dsEst3, plot=True)"
   ]
  },
  {
   "cell_type": "code",
   "execution_count": null,
   "metadata": {},
   "outputs": [],
   "source": []
  }
 ],
 "metadata": {
  "kernelspec": {
   "display_name": "kisaPy",
   "language": "python",
   "name": "kisapy"
  },
  "language_info": {
   "codemirror_mode": {
    "name": "ipython",
    "version": 3
   },
   "file_extension": ".py",
   "mimetype": "text/x-python",
   "name": "python",
   "nbconvert_exporter": "python",
   "pygments_lexer": "ipython3",
   "version": "3.8.10"
  }
 },
 "nbformat": 4,
 "nbformat_minor": 4
}
